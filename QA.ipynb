{
 "cells": [
  {
   "cell_type": "code",
   "execution_count": null,
   "metadata": {},
   "outputs": [],
   "source": [
    "import gradio as gr\n",
    "from Question import Question_generae"
   ]
  },
  {
   "cell_type": "code",
   "execution_count": null,
   "metadata": {},
   "outputs": [],
   "source": [
    "content='为什么说太阳也有生长老死世上万物皆有生死?辉煌如太阳者亦不能例外。它和众多的恒星一样，也有诞生和死亡。太阳起源于一团以氢分子为主的硕大气体云团。约50亿年前，一团原本十分稀薄的星云在某种外因的影响下开始收缩。由于引力作用，收缩一旦开始就会不断加速。在收缩过程中，动能转变成热能，使得气体温度逐渐升高，随着这团气体的密度越来越大，中心温度越来越高，一旦其核心达到了足够高的温度（约700万开），就会触发热核聚变反应。核心的热核反应“点燃”后，光辐射持续产生的“辐射压”能够有效地抵抗引力的作用，从而使得这团气体不再继续收缩，于是一个稳定的太阳就诞生了。'\n",
    "API_key='c490a340c978914d689040a021030e8d932d9d08'\n",
    "Q=Question_generae(content,API_key)\n",
    "result=Q.generate()\n",
    "print(result)"
   ]
  },
  {
   "cell_type": "code",
   "execution_count": 21,
   "metadata": {},
   "outputs": [],
   "source": [
    "def generate_click(API_key,content):\n",
    "    # 生成题目\n",
    "    global Answer\n",
    "    Q=Question_generae(content,API_key)\n",
    "    result=Q.generate()\n",
    "    print(result)\n",
    "    question=[]\n",
    "    choices=[[] for _ in range(10)]\n",
    "    Answer=''\n",
    "    print('successfully start_click')\n",
    "    i=0\n",
    "    for QCA in result:\n",
    "        question.append(QCA[0])\n",
    "        choices[i].extend(QCA[1:5])\n",
    "        i+=1\n",
    "        Answer+=QCA[5][-1]\n",
    "    print('successfully generate')\n",
    "    print(question[0])\n",
    "    print(choices[0])\n",
    "    Q1=gr.Textbox(label=\"Question 1\",value=question[0])\n",
    "    A1=gr.Radio(choices[0], label=\"Choice\")\n",
    "    Q2=gr.Textbox(label=\"Question 2\",value=question[1])\n",
    "    A2=gr.Radio(choices[1], label=\"Choice\")\n",
    "    Q3=gr.Textbox(label=\"Question 3\",value=question[2])\n",
    "    A3=gr.Radio(choices[2], label=\"Choice\")\n",
    "    Q4=gr.Textbox(label=\"Question 4\",value=question[3])\n",
    "    A4=gr.Radio(choices[3], label=\"Choice\")\n",
    "    Q5=gr.Textbox(label=\"Question 5\",value=question[4])\n",
    "    A5=gr.Radio(choices[4], label=\"Choice\")\n",
    "    Q6=gr.Textbox(label=\"Question 6\",value=question[5])\n",
    "    A6=gr.Radio(choices[5], label=\"Choice\")\n",
    "    Q7=gr.Textbox(label=\"Question 7\",value=question[6])\n",
    "    A7=gr.Radio(choices[6], label=\"Choice\")\n",
    "    Q8=gr.Textbox(label=\"Question 8\",value=question[7])\n",
    "    A8=gr.Radio(choices[7], label=\"Choice\")\n",
    "    Q9=gr.Textbox(label=\"Question 9\",value=question[8])\n",
    "    A9=gr.Radio(choices[8], label=\"Choice\")\n",
    "    Q10=gr.Textbox(label=\"Question 10\",value=question[9])\n",
    "    A10=gr.Radio(choices[9], label=\"Choice\")   \n",
    "    print('successfully show')\n",
    "    return Q1,A1,Q2,A2,Q3,A3,Q4,A4,Q5,A5,Q6,A6,Q7,A7,Q8,A8,Q9,A9,Q10,A10,Answer\n",
    "\n",
    "\n",
    "def checkAnswer(A1,A2,A3,A4,A5,A6,A7,A8,A9,A10):\n",
    "    global Answer\n",
    "    # 检查答案\n",
    "    acc=0\n",
    "    if A1[0]==Answer[0]:\n",
    "        acc+=1\n",
    "    if A2[0]==Answer[1]:\n",
    "        acc+=1\n",
    "    if A3[0]==Answer[2]:\n",
    "        acc+=1\n",
    "    if A4[0]==Answer[3]:\n",
    "        acc+=1\n",
    "    if A5[0]==Answer[4]:\n",
    "        acc+=1\n",
    "    if A6[0]==Answer[5]:\n",
    "        acc+=1\n",
    "    if A7[0]==Answer[6]:\n",
    "        acc+=1\n",
    "    if A8[0]==Answer[7]:\n",
    "        acc+=1\n",
    "    if A9[0]==Answer[8]:\n",
    "        acc+=1\n",
    "    if A10[0]==Answer[9]:\n",
    "        acc+=1\n",
    "    print(A1[0])\n",
    "    print(Answer)\n",
    "    acc_history.append(acc/10)\n",
    "    print(acc_history)"
   ]
  },
  {
   "cell_type": "code",
   "execution_count": 22,
   "metadata": {},
   "outputs": [
    {
     "name": "stdout",
     "output_type": "stream",
     "text": [
      "Running on local URL:  http://127.0.0.1:7867\n",
      "\n",
      "To create a public link, set `share=True` in `launch()`.\n"
     ]
    },
    {
     "data": {
      "text/html": [
       "<div><iframe src=\"http://127.0.0.1:7867/\" width=\"100%\" height=\"500\" allow=\"autoplay; camera; microphone; clipboard-read; clipboard-write;\" frameborder=\"0\" allowfullscreen></iframe></div>"
      ],
      "text/plain": [
       "<IPython.core.display.HTML object>"
      ]
     },
     "metadata": {},
     "output_type": "display_data"
    },
    {
     "data": {
      "text/plain": []
     },
     "execution_count": 22,
     "metadata": {},
     "output_type": "execute_result"
    },
    {
     "name": "stdout",
     "output_type": "stream",
     "text": [
      "[['太阳的生长老死是指什么过程？', 'A. 太阳从诞生到死亡的整个过程', 'B. 太阳每天升起和落下的过程', 'C. 太阳表面温度变化的过程', 'D. 太阳内部核聚变反应的过程', 'Answer: A'], ['太阳起源于什么？', 'A. 一团以氢分子为主的硕大气体云团', 'B. 一颗巨大的行星', 'C. 一个黑洞', 'D. 一个超新星爆炸', 'Answer: A'], ['太阳和众多恒星有什么共同点？', 'A. 它们都有固定的轨道', 'B. 它们都有诞生和死亡', 'C. 它们都是行星', 'D. 它们都围绕地球旋转', 'Answer: B'], ['太阳的主要成分是什么？', 'A. 氢和氦', 'B. 氧和氮', 'C. 铁和镍', 'D. 碳和硅', 'Answer: A'], ['下列哪项不是太阳的特点？', 'A. 它是太阳系的中心', 'B. 它是一个巨大的气体球', 'C. 它是一个固体星球', 'D. 它发出光和热', 'Answer: C'], ['太阳表面的温度大约是多少？', 'A. 5500摄氏度', 'B. 1000摄氏度', 'C. 2000摄氏度', 'D. 3000摄氏度', 'Answer: A'], ['太阳内部的核聚变反应会产生什么？', 'A. 氢和氦', 'B. 氧和氮', 'C. 能量和光', 'D. 碳和硅', 'Answer: C'], ['太阳的生长老死对地球有什么影响？', 'A. 地球会停止自转', 'B. 地球的温度会急剧下降', 'C. 地球会失去重力', 'D. 地球会保持不变', 'Answer: B'], ['下列哪项不是太阳生长老死过程中的阶段？', 'A. 诞生', 'B. 膨胀', 'C. 收缩', 'D. 爆炸', 'Answer: D'], ['太阳的生长老死过程是如何被科学家们了解的？', 'A. 通过观察太阳表面的变化', 'B. 通过研究太阳的内部结构', 'C. 通过观察其他恒星的生命周期', 'D. 通过实验模拟太阳的生长老死', 'Answer: C']]\n",
      "successfully start_click\n",
      "successfully generate\n",
      "太阳的生长老死是指什么过程？\n",
      "['A. 太阳从诞生到死亡的整个过程', 'B. 太阳每天升起和落下的过程', 'C. 太阳表面温度变化的过程', 'D. 太阳内部核聚变反应的过程']\n",
      "successfully show\n",
      "A\n",
      "AABACACBDC\n",
      "[0.4]\n"
     ]
    }
   ],
   "source": [
    "with gr.Blocks() as demo:\n",
    "    with gr.Tab(\"Generate Questions\"):\n",
    "        API_key =gr.Textbox(lines=1, label=\"API Key\", placeholder=\"Enter your API key\")\n",
    "        content=gr.Textbox(lines=15,label=\"Content\", placeholder=\"Enter your content\",value='为什么说太阳也有生长老死世上万物皆有生死?辉煌如太阳者亦不能例外。它和众多的恒星一样，也有诞生和死亡。太阳起源于一团以氢分子为主的硕大气体云团。约50亿年前，一团原本十分稀薄的星云在某种外因的影响下开始收缩。由于引力作用，收缩一旦开始就会不断加速。在收缩过程中，动能转变成热能，使得气体温度逐渐升高，随着这团气体的密度越来越大，中心温度越来越高，一旦其核心达到了足够高的温度（约700万开），就会触发热核聚变反应。核心的热核反应“点燃”后，光辐射持续产生的“辐射压”能够有效地抵抗引力的作用，从而使得这团气体不再继续收缩，于是一个稳定的太阳就诞生了。')\n",
    "        with gr.Row():\n",
    "            generate=gr.Button(\"Generate Questions\")\n",
    "    acc_history=[]\n",
    "    with gr.Tab(\"QA\"):\n",
    "        Q1=gr.Textbox(label=\"Question 1\",value='')\n",
    "        A1=gr.Radio([], label=\"Choice\")\n",
    "        Q2=gr.Textbox(label=\"Question 2\",value='')\n",
    "        A2=gr.Radio([], label=\"Choice\")\n",
    "        Q3=gr.Textbox(label=\"Question 3\",value='')\n",
    "        A3=gr.Radio([], label=\"Choice\")\n",
    "        Q4=gr.Textbox(label=\"Question 4\",value='')\n",
    "        A4=gr.Radio([], label=\"Choice\")\n",
    "        Q5=gr.Textbox(label=\"Question 5\",value='')\n",
    "        A5=gr.Radio([], label=\"Choice\")\n",
    "        Q6=gr.Textbox(label=\"Question 6\",value='')\n",
    "        A6=gr.Radio([], label=\"Choice\")\n",
    "        Q7=gr.Textbox(label=\"Question 7\",value='')\n",
    "        A7=gr.Radio([], label=\"Choice\")\n",
    "        Q8=gr.Textbox(label=\"Question 8\",value='')\n",
    "        A8=gr.Radio([], label=\"Choice\")\n",
    "        Q9=gr.Textbox(label=\"Question 9\",value='')\n",
    "        A9=gr.Radio([], label=\"Choice\")\n",
    "        Q10=gr.Textbox(label=\"Question 10\",value='')\n",
    "        A10=gr.Radio([], label=\"Choice\")\n",
    "        generate.click(fn=generate_click, inputs=[API_key,content],outputs=[Q1,A1,Q2,A2,Q3,A3,Q4,A4,Q5,A5,Q6,A6,Q7,A7,Q8,A8,Q9,A9,Q10,A10])\n",
    "        check=gr.Button(\"submit and check\")\n",
    "        check.click(fn=checkAnswer,inputs=[A1,A2,A3,A4,A5,A6,A7,A8,A9,A10])\n",
    "        \n",
    "demo.launch()\n"
   ]
  }
 ],
 "metadata": {
  "kernelspec": {
   "display_name": ".venv",
   "language": "python",
   "name": "python3"
  },
  "language_info": {
   "codemirror_mode": {
    "name": "ipython",
    "version": 3
   },
   "file_extension": ".py",
   "mimetype": "text/x-python",
   "name": "python",
   "nbconvert_exporter": "python",
   "pygments_lexer": "ipython3",
   "version": "3.10.9"
  }
 },
 "nbformat": 4,
 "nbformat_minor": 2
}
