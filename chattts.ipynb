{
 "cells": [
  {
   "cell_type": "markdown",
   "metadata": {},
   "source": [
    "# 安装依赖"
   ]
  },
  {
   "cell_type": "code",
   "execution_count": null,
   "metadata": {},
   "outputs": [],
   "source": [
    "!pip install omegaconf~=2.3.0\n",
    "!pip install torch~=2.1.0\n",
    "!pip install tqdm\n",
    "!pip install einops\n",
    "!pip install vector_quantize_pytorch\n",
    "!pip install transformers~=4.41.1\n",
    "!pip install vocos\n",
    "!pip install IPython\n",
    "!pip install numpy"
   ]
  },
  {
   "cell_type": "markdown",
   "metadata": {},
   "source": [
    "# Fix seeds"
   ]
  },
  {
   "cell_type": "code",
   "execution_count": null,
   "metadata": {},
   "outputs": [],
   "source": [
    "def fix(seed=42):\n",
    "    torch.manual_seed(seed)\n",
    "    np.random.seed(seed)\n",
    "    if torch.cuda.is_available():\n",
    "        torch.cuda.manual_seed_all(seed)\n",
    "    torch.backends.cudnn.deterministic = True\n",
    "    torch.backends.cudnn.benchmark = False"
   ]
  },
  {
   "cell_type": "code",
   "execution_count": null,
   "metadata": {},
   "outputs": [],
   "source": [
    "import torch\n",
    "torch._dynamo.config.cache_size_limit = 64\n",
    "torch._dynamo.config.suppress_errors = True\n",
    "torch.set_float32_matmul_precision('high')\n",
    "import ChatTTS\n",
    "from IPython.display import Audio\n",
    "torch.backends.cudnn.enabled = False\n",
    "chat = ChatTTS.Chat()\n",
    "chat.load_models()\n",
    "\n",
    "import torch\n",
    "rand_spk = chat.sample_random_speaker()\n",
    "\n",
    "params_infer_code = {\n",
    "  'spk_emb': rand_spk, # add sampled speaker \n",
    "  'temperature': .3, # using custom temperature\n",
    "  'top_P': 0.7, # top P decode\n",
    "  'top_K': 20, # top K decode\n",
    "}\n",
    "inputs_cn = \"\"\"\n",
    "chat T T S 是一款强大的对话式文本转语音模型。它有中英混读和多说话人的能力。\n",
    "chat T T S 不仅能够生成自然流畅的语音，还能控制[laugh]笑声啊[laugh]，\n",
    "停顿啊[uv_break]语气词啊等副语言现象[uv_break]。这个韵律超越了许多开源模型[uv_break]。\n",
    "请注意，chat T T S 的使用应遵守法律和伦理准则，避免滥用的安全风险。[uv_break]'\n",
    "\"\"\".replace('\\n', '')\n",
    "\n",
    "params_refine_text = {\n",
    "  'prompt': '[oral_2][laugh_0][break_4]',\n",
    "} \n",
    "audio_array_cn = chat.infer(inputs_cn, params_refine_text=params_refine_text, params_infer_code=params_infer_code,do_text_normalization=False)\n",
    "torchaudio.save(\"output3.wav\", torch.from_numpy(audio_array_en[0]), 24000)"
   ]
  }
 ],
 "metadata": {
  "kernelspec": {
   "display_name": ".venv",
   "language": "python",
   "name": "python3"
  },
  "language_info": {
   "name": "python",
   "version": "3.10.9"
  }
 },
 "nbformat": 4,
 "nbformat_minor": 2
}
