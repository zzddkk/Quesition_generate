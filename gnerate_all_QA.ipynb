{
 "cells": [
  {
   "cell_type": "code",
   "execution_count": null,
   "metadata": {},
   "outputs": [],
   "source": [
    "import csv\n",
    "from Question import Question_generae"
   ]
  },
  {
   "cell_type": "code",
   "execution_count": null,
   "metadata": {},
   "outputs": [],
   "source": [
    "with open('./data/100条截断.csv', 'r',encoding = \"utf-8\") as file:\n",
    "    csv_reader = csv.reader(file)\n",
    "    rows=[row for row in csv_reader]"
   ]
  },
  {
   "cell_type": "code",
   "execution_count": null,
   "metadata": {},
   "outputs": [],
   "source": [
    "print(rows[5][0][0:5]=='【关键词】')\n",
    "print(rows[5][2])\n",
    "print(len(rows[5]))"
   ]
  },
  {
   "cell_type": "code",
   "execution_count": null,
   "metadata": {},
   "outputs": [],
   "source": [
    "API_key='929f069eedcd27fc4c98661fdb7db34505d85489'"
   ]
  },
  {
   "cell_type": "code",
   "execution_count": null,
   "metadata": {},
   "outputs": [],
   "source": [
    "Q=Question_generae(content,API_key)\n",
    "result=Q.generate()\n",
    "print(result)"
   ]
  },
  {
   "cell_type": "code",
   "execution_count": null,
   "metadata": {},
   "outputs": [],
   "source": [
    "path='./data/100条截断v1.2.csv'\n",
    "new_rows=[]\n",
    "with open(path, 'a',encoding = \"utf-8\",newline='') as f:\n",
    "    writer = csv.writer(f)\n",
    "    for row in rows:\n",
    "        if row[0][0:5]=='【关键词】' or row[0][0:5]=='【微博士】':\n",
    "            continue\n",
    "        else:\n",
    "            writer.writerow(row)   "
   ]
  },
  {
   "cell_type": "markdown",
   "metadata": {},
   "source": [
    "# generate QA"
   ]
  },
  {
   "cell_type": "code",
   "execution_count": null,
   "metadata": {},
   "outputs": [],
   "source": [
    "with open('./data/100条截断v1.2.csv', 'r',encoding = \"utf-8\") as file:\n",
    "    csv_reader = csv.reader(file)\n",
    "    rows=[row for row in csv_reader]\n",
    "print(f\"题目总数{len(rows)}\")\n",
    "print(rows[2])"
   ]
  },
  {
   "cell_type": "code",
   "execution_count": null,
   "metadata": {},
   "outputs": [],
   "source": [
    "path='./data/QAv1.0.csv'\n",
    "new_rows=[]\n",
    "i=0\n",
    "with open(path, 'a',encoding = \"utf-8-sig\",newline='') as f:\n",
    "    writer = csv.writer(f)\n",
    "    for row in rows:\n",
    "        if i==0:\n",
    "            i+=1\n",
    "            continue\n",
    "        if i==1:\n",
    "            head=(['title','content','story'])\n",
    "            writer.writerow(head)\n",
    "            i+=1\n",
    "            continue\n",
    "        content=row[2]\n",
    "        # print(type(content))\n",
    "        Q=Question_generae(content,API_key)\n",
    "        print(f\"正在生成第{i}个题目\")\n",
    "        result=Q.generate()\n",
    "        # print(type(result))\n",
    "        # print(result)\n",
    "        i+=1\n",
    "        for r in result:\n",
    "            row.extend(r)\n",
    "        # print(type(new_row))\n",
    "        # print(len(new_row))\n",
    "        writer.writerow(row)"
   ]
  }
 ],
 "metadata": {
  "kernelspec": {
   "display_name": ".venv",
   "language": "python",
   "name": "python3"
  },
  "language_info": {
   "codemirror_mode": {
    "name": "ipython",
    "version": 3
   },
   "file_extension": ".py",
   "mimetype": "text/x-python",
   "name": "python",
   "nbconvert_exporter": "python",
   "pygments_lexer": "ipython3",
   "version": "3.10.9"
  }
 },
 "nbformat": 4,
 "nbformat_minor": 2
}
